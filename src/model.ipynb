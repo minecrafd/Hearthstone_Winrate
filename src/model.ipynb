{
 "cells": [
  {
   "cell_type": "code",
   "execution_count": 66,
   "metadata": {
    "collapsed": true
   },
   "outputs": [],
   "source": [
    "import json\n",
    "import pandas as pd\n",
    "from sklearn.model_selection import train_test_split\n",
    "from sklearn.ensemble import RandomForestRegressor\n",
    "from sklearn.metrics import mean_squared_error\n",
    "from sklearn.preprocessing import StandardScaler\n",
    "from sklearn.linear_model import BayesianRidge\n"
   ]
  },
  {
   "cell_type": "code",
   "execution_count": 67,
   "outputs": [],
   "source": [
    "with open('../dataset/hsreply_data/sorted/decks.json', 'r') as file:\n",
    "    decks = json.load(file)"
   ],
   "metadata": {
    "collapsed": false
   }
  },
  {
   "cell_type": "code",
   "execution_count": 68,
   "outputs": [],
   "source": [
    "# 79767 is prince"
   ],
   "metadata": {
    "collapsed": false
   }
  },
  {
   "cell_type": "code",
   "execution_count": 69,
   "outputs": [],
   "source": [
    "sorted_decks = sorted(decks, key=lambda x: x['total_games'], reverse=True)\n"
   ],
   "metadata": {
    "collapsed": false
   }
  },
  {
   "cell_type": "code",
   "execution_count": 70,
   "outputs": [],
   "source": [
    "columns = ['class', 'y']\n",
    "for i in range(30):\n",
    "    columns.append('card_' + str(i))\n",
    "\n",
    "df = pd.DataFrame(columns=columns)\n",
    "\n",
    "count = 0\n",
    "for deck in decks:\n",
    "    count += 1\n",
    "    if count == 600:\n",
    "        break\n",
    "    tmp = []\n",
    "    tmp.append(int(deck['archetype_id']))\n",
    "    if deck['archetype_id'] <= 0:\n",
    "        continue\n",
    "    tmp.append(deck['win_rate'])\n",
    "    deck_list = deck['deck_list']\n",
    "    success = True\n",
    "\n",
    "    for card_info, card_count in deck_list:\n",
    "        card_ind = card_info\n",
    "        if card_ind == 79767:\n",
    "            success = False\n",
    "            break\n",
    "        if card_count == 2:\n",
    "            tmp.append(card_ind)\n",
    "        tmp.append(card_ind)\n",
    "    if success:\n",
    "        df.loc[len(df)] = tmp"
   ],
   "metadata": {
    "collapsed": false
   }
  },
  {
   "cell_type": "code",
   "execution_count": 71,
   "outputs": [
    {
     "name": "stdout",
     "output_type": "stream",
     "text": [
      "     class      y    card_0    card_1    card_2    card_3    card_4    card_5  \\\n",
      "0    171.0  79.57   78086.0   84737.0   84737.0   69705.0   69705.0   98061.0   \n",
      "1    171.0  78.28   78086.0   84737.0   84737.0   69705.0   69705.0   98061.0   \n",
      "2    171.0  78.22   86661.0   78086.0   84737.0   84737.0   69705.0   69705.0   \n",
      "3    615.0  77.44  101874.0  100101.0   85034.0   85034.0   98417.0   98417.0   \n",
      "4    171.0  76.60   78086.0   84737.0   84737.0   98061.0   69705.0   69705.0   \n",
      "..     ...    ...       ...       ...       ...       ...       ...       ...   \n",
      "497  631.0  57.44   86111.0   86111.0   97215.0   97215.0  100936.0  100936.0   \n",
      "498  161.0  57.40   93881.0   77311.0   77311.0   85152.0   85152.0   96628.0   \n",
      "499  612.0  57.38   72598.0   72598.0   97467.0   97467.0   94735.0   94735.0   \n",
      "500  632.0  57.26   98417.0   98417.0  102743.0  102743.0  103463.0   97702.0   \n",
      "501   36.0  57.21  101989.0   91078.0   98520.0   77370.0  103471.0   97112.0   \n",
      "\n",
      "       card_6    card_7  ...   card_20   card_21   card_22   card_23  \\\n",
      "0     90698.0   90698.0  ...  102790.0  100284.0  100284.0   73434.0   \n",
      "1     90698.0   90698.0  ...  100121.0  100195.0  100284.0  100284.0   \n",
      "2     98061.0   90698.0  ...  100195.0  100284.0  100284.0   73434.0   \n",
      "3    100995.0  100995.0  ...   98212.0   77659.0   77659.0   96875.0   \n",
      "4     90698.0   90698.0  ...  102790.0  100284.0  100284.0   73434.0   \n",
      "..        ...       ...  ...       ...       ...       ...       ...   \n",
      "497   91078.0   77558.0  ...   86626.0   84385.0   84385.0   71781.0   \n",
      "498   96628.0   97700.0  ...   86417.0   86417.0   97687.0   97687.0   \n",
      "499   86731.0   97683.0  ...   80647.0   80647.0   82067.0   82067.0   \n",
      "500   97530.0   97530.0  ...  101464.0  101464.0   98029.0   98029.0   \n",
      "501   98248.0   77305.0  ...   82310.0   72481.0  101955.0   72488.0   \n",
      "\n",
      "      card_24   card_25   card_26   card_27   card_28   card_29  \n",
      "0     73434.0  102197.0  102197.0   78143.0   78143.0   95350.0  \n",
      "1     73434.0   73434.0  102197.0  102197.0   78143.0   78143.0  \n",
      "2     73434.0  102197.0  102197.0   78143.0   78143.0   95350.0  \n",
      "3    101272.0   97374.0  102194.0  102194.0   97361.0  102221.0  \n",
      "4     73434.0  102197.0  102197.0   78143.0   78143.0   95350.0  \n",
      "..        ...       ...       ...       ...       ...       ...  \n",
      "497   77557.0   77557.0   90591.0   90591.0   76259.0   76259.0  \n",
      "498   77244.0   77244.0  100874.0  100874.0   78142.0   78142.0  \n",
      "499   78320.0   78320.0   97394.0   97394.0   97269.0   97269.0  \n",
      "500  102223.0  102223.0   69660.0   69660.0   84302.0   74741.0  \n",
      "501   69508.0   97261.0   95917.0   90644.0  102223.0  102221.0  \n",
      "\n",
      "[502 rows x 32 columns]\n"
     ]
    }
   ],
   "source": [
    "print(df)"
   ],
   "metadata": {
    "collapsed": false
   }
  },
  {
   "cell_type": "code",
   "execution_count": 72,
   "outputs": [],
   "source": [
    "with open('../dataset/hsreply_data/sorted/cards.json', 'r') as file:\n",
    "    data_dict = json.load(file)"
   ],
   "metadata": {
    "collapsed": false
   }
  },
  {
   "cell_type": "code",
   "execution_count": 73,
   "outputs": [],
   "source": [
    "types = set(('MINION', 'SPELL', 'WEAPON', 'HERO', 'LOCATION'))"
   ],
   "metadata": {
    "collapsed": false
   }
  },
  {
   "cell_type": "code",
   "execution_count": 74,
   "outputs": [],
   "source": [
    "cards = ['class', 'y']\n",
    "for card in data_dict.values():\n",
    "    if 'type' in card:\n",
    "        if card['type'] in types:\n",
    "            cards.append(card['dbfId'])"
   ],
   "metadata": {
    "collapsed": false
   }
  },
  {
   "cell_type": "code",
   "execution_count": 75,
   "outputs": [],
   "source": [
    "cards_df = pd.DataFrame(columns=cards)\n",
    "cards_df = pd.DataFrame(0, columns=cards, index=range(len(df)))\n",
    "cards_df['class'] = df['class'].values\n",
    "cards_df['class'] = cards_df['class'].astype(str)\n",
    "cards_df['y'] = df['y'].values\n"
   ],
   "metadata": {
    "collapsed": false
   }
  },
  {
   "cell_type": "code",
   "execution_count": 76,
   "outputs": [],
   "source": [
    "for ind, deck in df.iterrows():\n",
    "    for i in deck.values[2:]:\n",
    "        cards_df.loc[ind, int(i)] += 1\n"
   ],
   "metadata": {
    "collapsed": false
   }
  },
  {
   "cell_type": "code",
   "execution_count": 77,
   "outputs": [],
   "source": [
    "cards_df = cards_df.loc[:, (cards_df != 0).any(axis=0)]"
   ],
   "metadata": {
    "collapsed": false
   }
  },
  {
   "cell_type": "code",
   "execution_count": 78,
   "outputs": [
    {
     "data": {
      "text/plain": "     class      y  62347  62442  62497  62498  62698  66176  66856  66861  \\\n0    171.0  79.57      0      0      0      0      0      0      0      0   \n1    171.0  78.28      0      0      0      0      0      0      0      0   \n2    171.0  78.22      0      0      0      0      0      0      0      0   \n3    615.0  77.44      0      0      0      0      0      0      0      0   \n4    171.0  76.60      0      0      0      0      0      0      0      0   \n..     ...    ...    ...    ...    ...    ...    ...    ...    ...    ...   \n497  631.0  57.44      0      0      0      0      0      0      0      0   \n498  161.0  57.40      0      0      0      0      0      0      0      0   \n499  612.0  57.38      0      0      0      0      0      0      0      0   \n500  632.0  57.26      0      0      0      0      0      0      0      0   \n501   36.0  57.21      0      0      0      0      0      0      0      0   \n\n     ...  102718  102719  102743  102790  102902  102904  102969  103462  \\\n0    ...       0       0       0       1       0       0       0       0   \n1    ...       0       0       0       0       0       0       0       0   \n2    ...       0       0       0       0       0       0       0       0   \n3    ...       0       0       0       0       0       0       0       0   \n4    ...       0       0       0       2       0       0       0       0   \n..   ...     ...     ...     ...     ...     ...     ...     ...     ...   \n497  ...       0       0       0       0       0       0       0       0   \n498  ...       0       0       0       0       0       0       0       0   \n499  ...       0       0       0       0       0       0       0       0   \n500  ...       0       0       2       0       0       2       0       0   \n501  ...       0       0       0       0       0       0       0       0   \n\n     103463  103471  \n0         0       0  \n1         0       0  \n2         0       0  \n3         0       0  \n4         0       0  \n..      ...     ...  \n497       0       0  \n498       0       0  \n499       0       0  \n500       1       0  \n501       0       1  \n\n[502 rows x 725 columns]",
      "text/html": "<div>\n<style scoped>\n    .dataframe tbody tr th:only-of-type {\n        vertical-align: middle;\n    }\n\n    .dataframe tbody tr th {\n        vertical-align: top;\n    }\n\n    .dataframe thead th {\n        text-align: right;\n    }\n</style>\n<table border=\"1\" class=\"dataframe\">\n  <thead>\n    <tr style=\"text-align: right;\">\n      <th></th>\n      <th>class</th>\n      <th>y</th>\n      <th>62347</th>\n      <th>62442</th>\n      <th>62497</th>\n      <th>62498</th>\n      <th>62698</th>\n      <th>66176</th>\n      <th>66856</th>\n      <th>66861</th>\n      <th>...</th>\n      <th>102718</th>\n      <th>102719</th>\n      <th>102743</th>\n      <th>102790</th>\n      <th>102902</th>\n      <th>102904</th>\n      <th>102969</th>\n      <th>103462</th>\n      <th>103463</th>\n      <th>103471</th>\n    </tr>\n  </thead>\n  <tbody>\n    <tr>\n      <th>0</th>\n      <td>171.0</td>\n      <td>79.57</td>\n      <td>0</td>\n      <td>0</td>\n      <td>0</td>\n      <td>0</td>\n      <td>0</td>\n      <td>0</td>\n      <td>0</td>\n      <td>0</td>\n      <td>...</td>\n      <td>0</td>\n      <td>0</td>\n      <td>0</td>\n      <td>1</td>\n      <td>0</td>\n      <td>0</td>\n      <td>0</td>\n      <td>0</td>\n      <td>0</td>\n      <td>0</td>\n    </tr>\n    <tr>\n      <th>1</th>\n      <td>171.0</td>\n      <td>78.28</td>\n      <td>0</td>\n      <td>0</td>\n      <td>0</td>\n      <td>0</td>\n      <td>0</td>\n      <td>0</td>\n      <td>0</td>\n      <td>0</td>\n      <td>...</td>\n      <td>0</td>\n      <td>0</td>\n      <td>0</td>\n      <td>0</td>\n      <td>0</td>\n      <td>0</td>\n      <td>0</td>\n      <td>0</td>\n      <td>0</td>\n      <td>0</td>\n    </tr>\n    <tr>\n      <th>2</th>\n      <td>171.0</td>\n      <td>78.22</td>\n      <td>0</td>\n      <td>0</td>\n      <td>0</td>\n      <td>0</td>\n      <td>0</td>\n      <td>0</td>\n      <td>0</td>\n      <td>0</td>\n      <td>...</td>\n      <td>0</td>\n      <td>0</td>\n      <td>0</td>\n      <td>0</td>\n      <td>0</td>\n      <td>0</td>\n      <td>0</td>\n      <td>0</td>\n      <td>0</td>\n      <td>0</td>\n    </tr>\n    <tr>\n      <th>3</th>\n      <td>615.0</td>\n      <td>77.44</td>\n      <td>0</td>\n      <td>0</td>\n      <td>0</td>\n      <td>0</td>\n      <td>0</td>\n      <td>0</td>\n      <td>0</td>\n      <td>0</td>\n      <td>...</td>\n      <td>0</td>\n      <td>0</td>\n      <td>0</td>\n      <td>0</td>\n      <td>0</td>\n      <td>0</td>\n      <td>0</td>\n      <td>0</td>\n      <td>0</td>\n      <td>0</td>\n    </tr>\n    <tr>\n      <th>4</th>\n      <td>171.0</td>\n      <td>76.60</td>\n      <td>0</td>\n      <td>0</td>\n      <td>0</td>\n      <td>0</td>\n      <td>0</td>\n      <td>0</td>\n      <td>0</td>\n      <td>0</td>\n      <td>...</td>\n      <td>0</td>\n      <td>0</td>\n      <td>0</td>\n      <td>2</td>\n      <td>0</td>\n      <td>0</td>\n      <td>0</td>\n      <td>0</td>\n      <td>0</td>\n      <td>0</td>\n    </tr>\n    <tr>\n      <th>...</th>\n      <td>...</td>\n      <td>...</td>\n      <td>...</td>\n      <td>...</td>\n      <td>...</td>\n      <td>...</td>\n      <td>...</td>\n      <td>...</td>\n      <td>...</td>\n      <td>...</td>\n      <td>...</td>\n      <td>...</td>\n      <td>...</td>\n      <td>...</td>\n      <td>...</td>\n      <td>...</td>\n      <td>...</td>\n      <td>...</td>\n      <td>...</td>\n      <td>...</td>\n      <td>...</td>\n    </tr>\n    <tr>\n      <th>497</th>\n      <td>631.0</td>\n      <td>57.44</td>\n      <td>0</td>\n      <td>0</td>\n      <td>0</td>\n      <td>0</td>\n      <td>0</td>\n      <td>0</td>\n      <td>0</td>\n      <td>0</td>\n      <td>...</td>\n      <td>0</td>\n      <td>0</td>\n      <td>0</td>\n      <td>0</td>\n      <td>0</td>\n      <td>0</td>\n      <td>0</td>\n      <td>0</td>\n      <td>0</td>\n      <td>0</td>\n    </tr>\n    <tr>\n      <th>498</th>\n      <td>161.0</td>\n      <td>57.40</td>\n      <td>0</td>\n      <td>0</td>\n      <td>0</td>\n      <td>0</td>\n      <td>0</td>\n      <td>0</td>\n      <td>0</td>\n      <td>0</td>\n      <td>...</td>\n      <td>0</td>\n      <td>0</td>\n      <td>0</td>\n      <td>0</td>\n      <td>0</td>\n      <td>0</td>\n      <td>0</td>\n      <td>0</td>\n      <td>0</td>\n      <td>0</td>\n    </tr>\n    <tr>\n      <th>499</th>\n      <td>612.0</td>\n      <td>57.38</td>\n      <td>0</td>\n      <td>0</td>\n      <td>0</td>\n      <td>0</td>\n      <td>0</td>\n      <td>0</td>\n      <td>0</td>\n      <td>0</td>\n      <td>...</td>\n      <td>0</td>\n      <td>0</td>\n      <td>0</td>\n      <td>0</td>\n      <td>0</td>\n      <td>0</td>\n      <td>0</td>\n      <td>0</td>\n      <td>0</td>\n      <td>0</td>\n    </tr>\n    <tr>\n      <th>500</th>\n      <td>632.0</td>\n      <td>57.26</td>\n      <td>0</td>\n      <td>0</td>\n      <td>0</td>\n      <td>0</td>\n      <td>0</td>\n      <td>0</td>\n      <td>0</td>\n      <td>0</td>\n      <td>...</td>\n      <td>0</td>\n      <td>0</td>\n      <td>2</td>\n      <td>0</td>\n      <td>0</td>\n      <td>2</td>\n      <td>0</td>\n      <td>0</td>\n      <td>1</td>\n      <td>0</td>\n    </tr>\n    <tr>\n      <th>501</th>\n      <td>36.0</td>\n      <td>57.21</td>\n      <td>0</td>\n      <td>0</td>\n      <td>0</td>\n      <td>0</td>\n      <td>0</td>\n      <td>0</td>\n      <td>0</td>\n      <td>0</td>\n      <td>...</td>\n      <td>0</td>\n      <td>0</td>\n      <td>0</td>\n      <td>0</td>\n      <td>0</td>\n      <td>0</td>\n      <td>0</td>\n      <td>0</td>\n      <td>0</td>\n      <td>1</td>\n    </tr>\n  </tbody>\n</table>\n<p>502 rows × 725 columns</p>\n</div>"
     },
     "execution_count": 78,
     "metadata": {},
     "output_type": "execute_result"
    }
   ],
   "source": [
    "cards_df"
   ],
   "metadata": {
    "collapsed": false
   }
  },
  {
   "cell_type": "code",
   "execution_count": 79,
   "outputs": [
    {
     "name": "stdout",
     "output_type": "stream",
     "text": [
      "     class      y  62347  62442  62497  62498  62698  66176  66856  66861  \\\n",
      "0    171.0  79.57      0      0      0      0      0      0      0      0   \n",
      "1    171.0  78.28      0      0      0      0      0      0      0      0   \n",
      "2    171.0  78.22      0      0      0      0      0      0      0      0   \n",
      "3    615.0  77.44      0      0      0      0      0      0      0      0   \n",
      "4    171.0  76.60      0      0      0      0      0      0      0      0   \n",
      "..     ...    ...    ...    ...    ...    ...    ...    ...    ...    ...   \n",
      "497  631.0  57.44      0      0      0      0      0      0      0      0   \n",
      "498  161.0  57.40      0      0      0      0      0      0      0      0   \n",
      "499  612.0  57.38      0      0      0      0      0      0      0      0   \n",
      "500  632.0  57.26      0      0      0      0      0      0      0      0   \n",
      "501   36.0  57.21      0      0      0      0      0      0      0      0   \n",
      "\n",
      "     ...  102718  102719  102743  102790  102902  102904  102969  103462  \\\n",
      "0    ...       0       0       0       1       0       0       0       0   \n",
      "1    ...       0       0       0       0       0       0       0       0   \n",
      "2    ...       0       0       0       0       0       0       0       0   \n",
      "3    ...       0       0       0       0       0       0       0       0   \n",
      "4    ...       0       0       0       2       0       0       0       0   \n",
      "..   ...     ...     ...     ...     ...     ...     ...     ...     ...   \n",
      "497  ...       0       0       0       0       0       0       0       0   \n",
      "498  ...       0       0       0       0       0       0       0       0   \n",
      "499  ...       0       0       0       0       0       0       0       0   \n",
      "500  ...       0       0       2       0       0       2       0       0   \n",
      "501  ...       0       0       0       0       0       0       0       0   \n",
      "\n",
      "     103463  103471  \n",
      "0         0       0  \n",
      "1         0       0  \n",
      "2         0       0  \n",
      "3         0       0  \n",
      "4         0       0  \n",
      "..      ...     ...  \n",
      "497       0       0  \n",
      "498       0       0  \n",
      "499       0       0  \n",
      "500       1       0  \n",
      "501       0       1  \n",
      "\n",
      "[502 rows x 725 columns]\n"
     ]
    }
   ],
   "source": [
    "print(cards_df)"
   ],
   "metadata": {
    "collapsed": false
   }
  },
  {
   "cell_type": "code",
   "execution_count": 80,
   "outputs": [
    {
     "name": "stdout",
     "output_type": "stream",
     "text": [
      "Mean Squared Error on Validation Set: 16.879592918223366\n"
     ]
    }
   ],
   "source": [
    "X = cards_df.drop(['y'], axis=1)  # 选择除了'class'和'y'列之外的所有列作为特征\n",
    "y = cards_df['y']\n",
    "\n",
    "# 将数据集分割为训练集和验证集\n",
    "X_train, X_val, y_train, y_val = train_test_split(X, y, test_size=0.2, random_state=42)\n",
    "\n",
    "# 2. 选择和训练模型\n",
    "# 这里选择线性回归模型作为示例，您可以根据实际需求选择其他模型\n",
    "model = RandomForestRegressor()\n",
    "\n",
    "# 标准化特征 (可选)\n",
    "scaler = StandardScaler()\n",
    "X_train.columns = X_train.columns.astype(str)\n",
    "X_val.columns = X_val.columns.astype(str)\n",
    "X_train_scaled = scaler.fit_transform(X_train)\n",
    "X_val_scaled = scaler.transform(X_val)\n",
    "\n",
    "# 训练模型\n",
    "model.fit(X_train_scaled, y_train)\n",
    "\n",
    "# 3. 模型验证\n",
    "# 在验证集上进行预测\n",
    "y_pred = model.predict(X_val_scaled)\n",
    "\n",
    "# 计算均方误差 (MSE) 作为模型性能的度量\n",
    "mse = mean_squared_error(y_val, y_pred)\n",
    "print(f'Mean Squared Error on Validation Set: {mse}')"
   ],
   "metadata": {
    "collapsed": false
   }
  },
  {
   "cell_type": "code",
   "execution_count": 81,
   "outputs": [
    {
     "name": "stdout",
     "output_type": "stream",
     "text": [
      "Top 5 Important Features:\n",
      "98212: 0.0492585779754519\n",
      "73774: 0.0469146798516293\n",
      "101109: 0.036422662074184625\n",
      "100284: 0.0360615480896956\n",
      "78144: 0.027813210966967046\n"
     ]
    }
   ],
   "source": [
    "import matplotlib.pyplot as plt\n",
    "import numpy as np\n",
    "\n",
    "# 绘制散点图\n",
    "plt.scatter(y_val, y_pred, alpha=0.5)\n",
    "plt.title('Actual vs Predicted')\n",
    "plt.xlabel('Actual')\n",
    "plt.ylabel('Predicted')\n",
    "\n",
    "# 添加一条线性趋势线\n",
    "line = np.linspace(min(y_val), max(y_val), 100)\n",
    "plt.plot(line, line, color='red', linestyle='--')\n",
    "\n",
    "plt.show()\n"
   ],
   "metadata": {
    "collapsed": false
   }
  },
  {
   "cell_type": "code",
   "execution_count": 82,
   "outputs": [
    {
     "data": {
      "text/plain": "<Figure size 640x480 with 1 Axes>",
      "image/png": "[encoded data removed]"
     },
     "metadata": {},
     "output_type": "display_data"
    }
   ],
   "source": [
    "# Find the indices of the most accurate and least accurate predictions\n",
    "best_prediction_index = np.argmin((y_val - y_pred)**2)  # Index with the smallest squared error\n",
    "worst_prediction_index = np.argmax((y_val - y_pred)**2)  # Index with the largest squared error\n",
    "\n",
    "# Get the corresponding input data for the best and worst predictions\n",
    "best_prediction_input = X_val.iloc[best_prediction_index, :]\n",
    "worst_prediction_input = X_val.iloc[worst_prediction_index, :]\n",
    "\n",
    "# Print the results\n",
    "print(\"Best Prediction Input:\")\n",
    "print(best_prediction_input)\n",
    "\n",
    "print(\"\\nWorst Prediction Input:\")\n",
    "print(worst_prediction_input)\n"
   ],
   "metadata": {
    "collapsed": false
   }
  },
  {
   "cell_type": "code",
   "execution_count": 82,
   "outputs": [],
   "source": [
    "feature_importance = model.feature_importances_\n",
    "\n",
    "# 获取特征名称\n",
    "feature_names = X.columns\n",
    "\n",
    "# 将特征重要性与特征名称进行关联\n",
    "feature_importance_dict = dict(zip(feature_names, feature_importance))\n",
    "\n",
    "# 按照重要性降序排列\n",
    "sorted_feature_importance = sorted(feature_importance_dict.items(), key=lambda x: x[1], reverse=True)\n",
    "\n",
    "# 取前20个特征\n",
    "top_20_features = sorted_feature_importance[:20]\n",
    "\n",
    "# 分离特征名称和重要性值\n",
    "sorted_feature_names, sorted_feature_importance = zip(*top_20_features)\n",
    "\n",
    "# 绘制条形图\n",
    "plt.figure(figsize=(10, 6))\n",
    "plt.barh(range(len(sorted_feature_importance)), sorted_feature_importance, align='center')\n",
    "plt.yticks(range(len(sorted_feature_importance)), sorted_feature_names)\n",
    "plt.xlabel('Feature Importance')\n",
    "plt.title('Top 20 Feature Importance for Predicting y')\n",
    "plt.show()"
   ],
   "metadata": {
    "collapsed": false
   }
  },
  {
   "cell_type": "code",
   "execution_count": 83,
   "outputs": [
    {
     "name": "stdout",
     "output_type": "stream",
     "text": [
      "Best Prediction Input:\n",
      "class     360.0\n",
      "62347         0\n",
      "62442         0\n",
      "62497         0\n",
      "62498         0\n",
      "          ...  \n",
      "102904        0\n",
      "102969        0\n",
      "103462        0\n",
      "103463        0\n",
      "103471        1\n",
      "Name: 305, Length: 724, dtype: object\n",
      "\n",
      "Worst Prediction Input:\n",
      "class     161.0\n",
      "62347         0\n",
      "62442         0\n",
      "62497         0\n",
      "62498         0\n",
      "          ...  \n",
      "102904        0\n",
      "102969        0\n",
      "103462        0\n",
      "103463        0\n",
      "103471        0\n",
      "Name: 15, Length: 724, dtype: object\n"
     ]
    }
   ],
   "source": [
    "# 1. 分割数据集\n",
    "X = cards_df.drop(['class', 'y'], axis=1)\n",
    "y = cards_df['y']\n",
    "\n",
    "# 将数据集分割为训练集和验证集\n",
    "X_train, X_val, y_train, y_val = train_test_split(X, y, test_size=0.3, random_state=42)\n",
    "\n",
    "# 2. 特征标准化 (可选)\n",
    "scaler = StandardScaler()\n",
    "X_train_scaled = scaler.fit_transform(X_train)\n",
    "X_val_scaled = scaler.transform(X_val)\n",
    "\n",
    "# 3. 构建 Bayesian Ridge 模型\n",
    "model = BayesianRidge()\n",
    "\n",
    "# 4. 训练模型\n",
    "model.fit(X_train_scaled, y_train)\n",
    "\n",
    "# 5. 模型验证\n",
    "# 在验证集上进行预测\n",
    "y_pred = model.predict(X_val_scaled)\n",
    "\n",
    "# 计算均方误差 (MSE) 作为模型性能的度量\n",
    "mse = mean_squared_error(y_val, y_pred)\n",
    "print(f'Mean Squared Error on Validation Set: {mse}')\n",
    "\n",
    "# 6. 特征重要性\n",
    "feature_importance = model.coef_\n",
    "\n",
    "# 获取特征名称\n",
    "feature_names = X.columns\n",
    "\n",
    "# 将特征重要性与特征名称进行关联\n",
    "feature_importance_dict = dict(zip(feature_names, feature_importance))\n",
    "\n",
    "# 按照重要性降序排列\n",
    "sorted_feature_importance = sorted(feature_importance_dict.items(), key=lambda x: abs(x[1]), reverse=True)\n",
    "\n",
    "# 取前20个特征\n",
    "top_20_features = sorted_feature_importance[:20]\n",
    "\n",
    "# 分离特征名称和重要性值\n",
    "sorted_feature_names, sorted_feature_importance = zip(*top_20_features)\n",
    "\n",
    "# 绘制条形图\n",
    "plt.figure(figsize=(10, 6))\n",
    "plt.barh(range(len(sorted_feature_importance)), sorted_feature_importance, align='center')\n",
    "plt.yticks(range(len(sorted_feature_importance)), sorted_feature_names)\n",
    "plt.xlabel('Feature Importance')\n",
    "plt.title('Top 20 Feature Importance for Predicting y (Bayesian Ridge)')\n",
    "plt.show()"
   ],
   "metadata": {
    "collapsed": false
   }
  },
  {
   "cell_type": "code",
   "execution_count": 84,
   "outputs": [
    {
     "data": {
      "text/plain": "<Figure size 1000x600 with 1 Axes>",
      "image/png": "[encoded data removed]"
     },
     "metadata": {},
     "output_type": "display_data"
    }
   ],
   "source": [
    "reg = BayesianRidge()\n",
    "reg.fit(X_train, y_train)\n",
    "pred = reg.predict(X_val)\n",
    "rmse = np.sqrt(mean_squared_error(y_val, pred))\n",
    "\n",
    "print(\"RMSE : % f\" %(rmse))\n",
    "plt.scatter(y_val.values,pred)\n",
    "plt.plot(np.arange(40,70,0.05),np.arange(40,70,0.05), color='red')\n",
    "plt.show()\n",
    "\n",
    "np.corrcoef(y_val.values,pred)**2"
   ],
   "metadata": {
    "collapsed": false
   }
  }
 ],
 "metadata": {
  "kernelspec": {
   "display_name": "Python 3",
   "language": "python",
   "name": "python3"
  },
  "language_info": {
   "codemirror_mode": {
    "name": "ipython",
    "version": 2
   },
   "file_extension": ".py",
   "mimetype": "text/x-python",
   "name": "python",
   "nbconvert_exporter": "python",
   "pygments_lexer": "ipython2",
   "version": "2.7.6"
  }
 },
 "nbformat": 4,
 "nbformat_minor": 0
}
