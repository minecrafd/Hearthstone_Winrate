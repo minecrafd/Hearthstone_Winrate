{
 "cells": [
  {
   "cell_type": "code",
   "execution_count": 1,
   "metadata": {},
   "outputs": [],
   "source": [
    "import json\n",
    "import numpy as np\n",
    "import matplotlib.pyplot as plt\n",
    "from math import sqrt\n",
    "import random\n",
    "from tqdm import tqdm\n",
    "\n",
    "import torch\n",
    "import torch.nn as nn\n",
    "import torch.optim as optim\n",
    "from torch.optim import lr_scheduler\n",
    "from torch.utils.data import TensorDataset, DataLoader\n",
    "\n",
    "from sklearn.model_selection import train_test_split"
   ]
  },
  {
   "cell_type": "code",
   "execution_count": 2,
   "metadata": {},
   "outputs": [
    {
     "name": "stdout",
     "output_type": "stream",
     "text": [
      "cards num: 958\n",
      "decks num: 736\n",
      "deck example: [99957, 99957, 97467, 97467, 100595, 100595, 97406, 97683, 98283, 98283, 98285, 98762, 98762, 97282, 97282, 85154, 85154, 79780, 97528, 97528, 98768, 98768, 86626, 80647, 80647, 101375, 97269, 97269, 97394, 97394]\n",
      "0.7648\n"
     ]
    }
   ],
   "source": [
    "#load data\n",
    "with open(\"/home/vrlab/Documents/HS/Hearthstone_Winrate/dataset/hsreply_data/decks.json\", 'r') as f:\n",
    "    decks_ori = json.load(f)\n",
    "\n",
    "winrate = []\n",
    "decks = []\n",
    "cards = set()\n",
    "\n",
    "for deck in decks_ori:\n",
    "    tmp = []\n",
    "    for card in deck['deck_list']:\n",
    "        for i in range(card[1]):\n",
    "            tmp.append(card[0])\n",
    "    if len(tmp) == 30:\n",
    "        decks.append(tmp)\n",
    "        for card in tmp:\n",
    "            cards.add(card)\n",
    "        winrate.append(deck['win_rate']/100)\n",
    "\n",
    "cards = list(cards)\n",
    "\n",
    "print('cards num:', len(cards))\n",
    "print('decks num:', len(decks))\n",
    "print('deck example:', decks[0])\n",
    "print(winrate[0])"
   ]
  },
  {
   "cell_type": "code",
   "execution_count": 3,
   "metadata": {},
   "outputs": [
    {
     "name": "stdout",
     "output_type": "stream",
     "text": [
      "[69632, 69635, 69636, 69637, 100358, 69638, 71688, 100361, 100362, 100363, 71690, 100365, 71694, 100367, 69643, 100369, 69649, 94225, 69654, 69655, 98328, 71705, 69658, 69660, 69663, 71712, 69665, 84003, 69668, 69667, 84007, 98344, 81961, 94248, 81963, 94251, 69674, 73774, 69683, 81972, 81973, 69684, 69688, 69689, 69691, 79932, 96077, 92222, 92225, 69698, 69700, 92228, 69702, 69703, 92232, 69705, 69706, 92235, 69707, 98377, 98382, 92237, 86092, 69713, 92240, 69718, 69721, 92250, 92249, 75866, 75868, 86109, 86111, 92256, 86112, 69625, 98403, 69731, 71781, 69734, 69735, 86120, 75881, 92266, 98411, 69740, 92268, 69742, 92267, 98417, 98123, 69629, 86132, 69630, 98427, 98434, 86150, 80014, 82067, 80021, 96909, 82072, 82073, 84292, 71841, 84132, 98469, 96422, 92325, 82088, 69640, 92332, 94381, 86190, 92335, 69641, 73906, 92338, 92340, 100537, 100539, 100540, 86209, 100546, 82116, 100553, 102212, 80083, 80085, 98520, 80089, 80090, 86235, 80091, 73721, 102214, 102215, 71917, 102218, 84206, 71922, 100595, 102219, 80118, 80120, 80121, 84219, 90366, 78079, 98560, 90368, 86274, 100611, 71940, 78080, 78086, 78081, 100616, 71944, 71945, 100619, 84235, 102224, 84234, 84238, 84242, 100627, 84250, 100641, 78113, 98565, 84260, 78117, 84261, 84266, 78123, 86317, 84272, 71984, 84274, 102718, 78143, 78144, 84288, 98626, 78146, 78142, 102719, 78150, 72007, 90440, 90439, 84293, 78155, 78156, 84301, 84302, 84300, 88403, 72021, 102743, 72024, 102745, 98652, 82269, 90461, 90463, 96618, 86383, 90481, 96627, 96628, 98680, 84345, 78202, 84351, 90497, 84354, 84356, 84357, 102790, 82310, 84361, 82313, 82316, 98704, 86417, 84370, 96671, 84385, 84387, 90532, 84388, 84390, 86439, 90534, 84393, 84391, 84395, 98734, 84399, 84400, 78261, 72119, 78264, 78268, 78270, 76223, 76224, 78273, 90561, 82369, 78275, 84421, 96710, 98762, 84426, 84428, 98768, 86481, 86487, 90583, 76250, 90586, 90591, 90592, 76258, 76259, 86502, 86505, 78314, 90603, 86508, 78317, 86510, 90606, 78320, 76273, 76272, 78324, 78325, 102902, 90615, 102904, 76281, 76282, 102903, 78332, 78333, 78334, 78335, 76288, 76289, 78338, 76291, 76283, 76293, 78342, 94727, 86534, 78345, 76297, 86539, 78348, 78349, 76300, 94735, 78352, 78353, 78354, 78355, 78356, 78357, 76308, 86547, 90648, 76310, 86548, 76306, 76316, 86557, 76318, 76319, 86552, 76317, 76322, 78371, 76324, 78373, 86567, 76327, 76329, 86570, 86574, 78383, 90678, 72248, 102969, 72250, 78394, 78393, 78397, 90683, 90687, 90688, 90689, 90681, 86595, 78405, 90694, 100935, 100936, 100937, 90698, 100938, 78412, 94798, 100942, 78416, 100944, 78418, 78419, 86619, 86621, 86624, 86626, 94819, 94820, 94821, 94822, 84586, 96875, 90738, 100984, 72314, 72316, 90749, 100989, 72318, 66176, 100992, 100995, 86661, 96903, 101003, 72333, 86669, 101006, 86672, 72336, 72338, 96910, 101012, 96916, 96917, 101015, 101016, 90781, 86691, 101033, 96941, 96946, 90808, 101051, 101052, 101053, 101054, 101055, 78525, 101057, 86722, 78532, 86725, 86731, 86732, 86735, 101075, 101076, 101077, 84692, 101080, 96992, 72417, 90850, 72416, 96996, 96997, 101093, 96999, 90856, 72423, 101097, 90854, 101100, 97005, 101109, 101110, 101112, 80641, 84737, 84739, 80644, 80645, 84740, 80647, 80648, 78601, 80649, 84749, 101134, 101133, 84752, 101142, 97047, 97049, 97051, 72481, 72482, 72484, 97061, 72487, 72488, 78633, 101162, 78641, 78644, 97078, 78649, 99129, 72508, 90945, 80708, 97096, 90952, 97098, 90956, 97103, 90959, 97109, 72533, 97112, 72536, 80736, 72553, 97132, 76294, 90996, 84857, 91001, 72583, 62347, 72588, 72587, 101264, 101265, 99221, 72598, 88982, 101272, 101270, 101269, 101271, 76302, 76304, 74672, 80818, 80819, 80820, 80822, 91066, 84923, 91067, 97215, 91078, 91079, 72648, 72649, 72650, 64465, 62442, 97261, 97269, 74741, 101367, 101369, 101375, 101376, 97282, 74755, 101382, 78363, 62497, 62498, 97318, 103463, 103462, 85034, 85035, 97326, 103471, 85041, 97329, 97332, 97333, 85051, 97343, 97344, 97352, 97354, 97355, 101454, 91215, 97360, 97361, 97362, 97363, 101462, 101464, 97374, 97375, 91232, 97377, 97376, 97379, 97380, 101476, 95336, 101481, 101482, 101483, 101480, 95344, 95345, 97394, 91251, 91252, 97397, 95350, 76921, 97403, 97404, 97406, 74881, 74886, 101513, 74890, 74907, 85152, 85154, 95394, 76970, 95404, 95405, 101549, 97455, 101551, 101550, 76977, 101555, 95408, 76982, 101559, 76984, 97462, 97467, 72896, 72897, 97474, 97477, 97478, 86540, 97495, 77018, 72923, 86543, 72925, 72924, 72926, 86544, 72931, 86545, 72935, 77033, 62698, 72938, 95470, 97527, 97528, 97530, 97532, 77055, 77056, 77057, 86551, 87301, 79111, 87317, 72984, 101660, 87326, 87329, 97572, 66854, 97575, 66856, 66858, 97579, 79147, 66861, 66864, 97584, 66866, 66868, 101685, 81206, 66869, 66872, 75070, 75072, 101698, 77609, 97608, 97614, 97617, 97619, 97623, 97626, 97627, 77148, 77149, 77150, 91494, 97638, 97640, 91498, 97642, 73068, 97649, 90644, 97671, 97678, 97680, 97682, 97683, 97687, 77208, 77209, 77210, 97697, 97700, 97702, 77244, 97726, 95688, 101849, 94736, 101869, 101871, 101873, 101874, 101875, 101876, 101877, 77298, 101879, 101880, 77305, 77306, 77311, 77313, 95746, 97825, 101939, 77366, 77368, 77370, 97853, 101950, 101953, 101955, 101958, 101966, 101969, 101971, 101975, 101976, 101978, 89699, 101989, 100870, 95856, 102001, 99957, 85621, 99959, 79480, 99961, 79482, 97915, 79486, 87681, 100874, 100875, 79503, 85651, 102040, 102051, 102052, 102054, 102059, 79532, 95917, 102061, 100015, 100016, 77490, 100019, 79540, 79542, 93881, 79548, 79549, 95935, 79552, 79556, 79562, 79563, 73424, 79569, 73428, 77525, 73431, 73434, 73436, 79581, 100062, 95967, 79584, 98017, 73442, 91874, 73446, 98023, 79593, 98029, 79598, 98030, 91888, 102129, 79602, 77554, 77556, 77557, 77558, 79607, 77562, 79612, 100093, 73471, 102144, 98051, 102148, 100101, 98053, 98055, 98056, 98054, 98058, 98059, 98061, 100114, 100118, 100121, 102170, 100124, 84623, 98087, 102184, 102185, 75560, 102187, 102188, 102186, 102190, 102189, 102192, 102191, 102194, 98097, 102193, 102195, 102197, 102196, 102198, 98105, 102200, 75579, 102199, 102205, 75583, 98111, 102209, 102210, 102207, 102211, 75589, 75590, 102213, 102216, 102217, 77642, 100171, 100172, 102221, 100174, 102223, 100173, 102225, 100178, 102227, 102228, 100180, 77654, 100179, 98136, 102230, 91986, 77659, 100191, 98143, 100195, 102246, 77679, 75631, 75635, 69500, 69501, 69504, 102272, 69507, 69508, 69509, 100230, 69511, 102275, 69513, 100234, 77704, 69516, 69519, 69521, 77714, 69522, 69525, 69530, 69532, 69533, 79772, 69535, 69537, 69539, 79780, 98212, 69542, 69543, 69544, 69545, 69546, 79784, 69550, 98223, 69551, 69553, 69557, 69558, 100284, 100285, 69566, 100286, 100288, 77761, 69569, 100291, 100296, 98248, 69586, 69588, 69590, 69591, 98265, 69594, 69593, 69595, 69598, 71646, 69600, 69601, 69603, 69604, 69605, 69607, 69608, 98280, 98282, 98283, 69611, 98285, 69614, 69613, 69616, 69621, 69622, 69623, 94201, 69626, 94204, 94205, 73726]\n",
      "(736, 30, 958)\n"
     ]
    }
   ],
   "source": [
    "# one hot encode\n",
    "mapping = np.eye(len(cards))\n",
    "print(cards)\n",
    "cards = {cards[i]:mapping[i] for i in range(len(cards))}\n",
    "\n",
    "decks = [[cards[card] for card in deck] for deck in decks]\n",
    "\n",
    "decks = np.array(decks)\n",
    "print(decks.shape)"
   ]
  },
  {
   "cell_type": "code",
   "execution_count": 17,
   "metadata": {},
   "outputs": [],
   "source": [
    "# Dataloader\n",
    "inputs = torch.tensor(decks, dtype=torch.float).to('cuda')\n",
    "gts = torch.tensor(winrate, dtype=torch.float).to('cuda')\n",
    "\n",
    "X_train, X_test, y_train, y_test = train_test_split(inputs, gts, test_size=0.1, random_state=20)  \n",
    "\n",
    "train_dataset = TensorDataset(X_train, y_train)\n",
    "\n",
    "train_loader = DataLoader(train_dataset, batch_size=4, shuffle=True)"
   ]
  },
  {
   "cell_type": "code",
   "execution_count": 5,
   "metadata": {},
   "outputs": [],
   "source": [
    "from net import Transformer"
   ]
  },
  {
   "cell_type": "code",
   "execution_count": 6,
   "metadata": {},
   "outputs": [],
   "source": [
    "input_size = len(cards)\n",
    "hidden_size = 1024\n",
    "output_size = 1\n",
    "model = Transformer(input_size, input_size, input_size, 512).to('cuda:0')\n",
    "\n",
    "# 定义损失函数和优化器\n",
    "criterion = nn.MSELoss()\n",
    "optimizer = optim.SGD(model.parameters(), lr=0.0001)\n",
    "scheduler = lr_scheduler.ReduceLROnPlateau(optimizer, mode='min', patience=5, factor=0.5, verbose=True)"
   ]
  },
  {
   "cell_type": "code",
   "execution_count": 7,
   "metadata": {},
   "outputs": [
    {
     "name": "stderr",
     "output_type": "stream",
     "text": [
      "  5%|▌         | 50/1000 [00:21<06:56,  2.28it/s]"
     ]
    },
    {
     "name": "stdout",
     "output_type": "stream",
     "text": [
      "Epoch [50/1000], Loss: 0.66047\n",
      "pred: tensor([0.5452], device='cuda:0'), gt: 0.531000018119812\n",
      "pred: tensor([0.5923], device='cuda:0'), gt: 0.6470000147819519\n"
     ]
    },
    {
     "name": "stderr",
     "output_type": "stream",
     "text": [
      " 10%|█         | 100/1000 [00:43<06:28,  2.32it/s]"
     ]
    },
    {
     "name": "stdout",
     "output_type": "stream",
     "text": [
      "Epoch [100/1000], Loss: 0.49477\n",
      "pred: tensor([0.6155], device='cuda:0'), gt: 0.64410001039505\n",
      "pred: tensor([0.6082], device='cuda:0'), gt: 0.6322000026702881\n"
     ]
    },
    {
     "name": "stderr",
     "output_type": "stream",
     "text": [
      " 15%|█▌        | 150/1000 [01:04<06:06,  2.32it/s]"
     ]
    },
    {
     "name": "stdout",
     "output_type": "stream",
     "text": [
      "Epoch [150/1000], Loss: 0.39569\n",
      "pred: tensor([0.5125], device='cuda:0'), gt: 0.5357000231742859\n",
      "pred: tensor([0.6158], device='cuda:0'), gt: 0.6003999710083008\n"
     ]
    },
    {
     "name": "stderr",
     "output_type": "stream",
     "text": [
      " 20%|██        | 200/1000 [01:20<03:53,  3.43it/s]"
     ]
    },
    {
     "name": "stdout",
     "output_type": "stream",
     "text": [
      "Epoch [200/1000], Loss: 0.32365\n",
      "pred: tensor([0.6495], device='cuda:0'), gt: 0.6941999793052673\n",
      "pred: tensor([0.5979], device='cuda:0'), gt: 0.5443000197410583\n"
     ]
    },
    {
     "name": "stderr",
     "output_type": "stream",
     "text": [
      " 25%|██▌       | 250/1000 [01:40<05:23,  2.32it/s]"
     ]
    },
    {
     "name": "stdout",
     "output_type": "stream",
     "text": [
      "Epoch [250/1000], Loss: 0.26134\n",
      "pred: tensor([0.4823], device='cuda:0'), gt: 0.5357000231742859\n",
      "pred: tensor([0.5466], device='cuda:0'), gt: 0.5210999846458435\n"
     ]
    },
    {
     "name": "stderr",
     "output_type": "stream",
     "text": [
      " 30%|███       | 300/1000 [02:01<05:01,  2.32it/s]"
     ]
    },
    {
     "name": "stdout",
     "output_type": "stream",
     "text": [
      "Epoch [300/1000], Loss: 0.22497\n",
      "pred: tensor([0.5581], device='cuda:0'), gt: 0.538100004196167\n",
      "pred: tensor([0.5598], device='cuda:0'), gt: 0.6337000131607056\n"
     ]
    },
    {
     "name": "stderr",
     "output_type": "stream",
     "text": [
      " 35%|███▌      | 350/1000 [02:23<04:40,  2.32it/s]"
     ]
    },
    {
     "name": "stdout",
     "output_type": "stream",
     "text": [
      "Epoch [350/1000], Loss: 0.18934\n",
      "pred: tensor([0.6110], device='cuda:0'), gt: 0.6191999912261963\n",
      "pred: tensor([0.5945], device='cuda:0'), gt: 0.6729000210762024\n"
     ]
    },
    {
     "name": "stderr",
     "output_type": "stream",
     "text": [
      " 40%|████      | 400/1000 [02:44<04:18,  2.32it/s]"
     ]
    },
    {
     "name": "stdout",
     "output_type": "stream",
     "text": [
      "Epoch [400/1000], Loss: 0.16148\n",
      "pred: tensor([0.5954], device='cuda:0'), gt: 0.49549999833106995\n",
      "pred: tensor([0.5754], device='cuda:0'), gt: 0.5615000128746033\n"
     ]
    },
    {
     "name": "stderr",
     "output_type": "stream",
     "text": [
      " 45%|████▌     | 450/1000 [03:06<03:57,  2.32it/s]"
     ]
    },
    {
     "name": "stdout",
     "output_type": "stream",
     "text": [
      "Epoch [450/1000], Loss: 0.14322\n",
      "pred: tensor([0.6860], device='cuda:0'), gt: 0.7070000171661377\n",
      "pred: tensor([0.5907], device='cuda:0'), gt: 0.6035000085830688\n"
     ]
    },
    {
     "name": "stderr",
     "output_type": "stream",
     "text": [
      " 50%|█████     | 500/1000 [03:26<02:28,  3.37it/s]"
     ]
    },
    {
     "name": "stdout",
     "output_type": "stream",
     "text": [
      "Epoch [500/1000], Loss: 0.12328\n",
      "pred: tensor([0.6869], device='cuda:0'), gt: 0.7307999730110168\n",
      "pred: tensor([0.6423], device='cuda:0'), gt: 0.6317999958992004\n"
     ]
    },
    {
     "name": "stderr",
     "output_type": "stream",
     "text": [
      " 55%|█████▌    | 550/1000 [03:46<03:14,  2.32it/s]"
     ]
    },
    {
     "name": "stdout",
     "output_type": "stream",
     "text": [
      "Epoch [550/1000], Loss: 0.11152\n",
      "pred: tensor([0.6227], device='cuda:0'), gt: 0.6237999796867371\n",
      "pred: tensor([0.5719], device='cuda:0'), gt: 0.5932999849319458\n"
     ]
    },
    {
     "name": "stderr",
     "output_type": "stream",
     "text": [
      " 60%|██████    | 600/1000 [04:03<02:51,  2.33it/s]"
     ]
    },
    {
     "name": "stdout",
     "output_type": "stream",
     "text": [
      "Epoch [600/1000], Loss: 0.09763\n",
      "pred: tensor([0.5525], device='cuda:0'), gt: 0.5514000058174133\n",
      "pred: tensor([0.5999], device='cuda:0'), gt: 0.5971999764442444\n"
     ]
    },
    {
     "name": "stderr",
     "output_type": "stream",
     "text": [
      " 65%|██████▌   | 650/1000 [04:25<02:30,  2.32it/s]"
     ]
    },
    {
     "name": "stdout",
     "output_type": "stream",
     "text": [
      "Epoch [650/1000], Loss: 0.08824\n",
      "pred: tensor([0.5335], device='cuda:0'), gt: 0.536300003528595\n",
      "pred: tensor([0.5884], device='cuda:0'), gt: 0.5584999918937683\n"
     ]
    },
    {
     "name": "stderr",
     "output_type": "stream",
     "text": [
      " 70%|███████   | 700/1000 [04:47<02:09,  2.32it/s]"
     ]
    },
    {
     "name": "stdout",
     "output_type": "stream",
     "text": [
      "Epoch [700/1000], Loss: 0.07882\n",
      "pred: tensor([0.5896], device='cuda:0'), gt: 0.5942000150680542\n",
      "pred: tensor([0.6532], device='cuda:0'), gt: 0.7031999826431274\n"
     ]
    },
    {
     "name": "stderr",
     "output_type": "stream",
     "text": [
      " 75%|███████▌  | 750/1000 [05:08<01:47,  2.32it/s]"
     ]
    },
    {
     "name": "stdout",
     "output_type": "stream",
     "text": [
      "Epoch [750/1000], Loss: 0.07157\n",
      "pred: tensor([0.6939], device='cuda:0'), gt: 0.7134000062942505\n",
      "pred: tensor([0.6538], device='cuda:0'), gt: 0.6585999727249146\n"
     ]
    },
    {
     "name": "stderr",
     "output_type": "stream",
     "text": [
      " 80%|████████  | 800/1000 [05:30<01:26,  2.32it/s]"
     ]
    },
    {
     "name": "stdout",
     "output_type": "stream",
     "text": [
      "Epoch [800/1000], Loss: 0.06670\n",
      "pred: tensor([0.6610], device='cuda:0'), gt: 0.6607000231742859\n",
      "pred: tensor([0.5768], device='cuda:0'), gt: 0.5720999836921692\n"
     ]
    },
    {
     "name": "stderr",
     "output_type": "stream",
     "text": [
      " 85%|████████▌ | 850/1000 [05:45<00:43,  3.43it/s]"
     ]
    },
    {
     "name": "stdout",
     "output_type": "stream",
     "text": [
      "Epoch [850/1000], Loss: 0.06185\n",
      "pred: tensor([0.5489], device='cuda:0'), gt: 0.5435000061988831\n",
      "pred: tensor([0.5293], device='cuda:0'), gt: 0.5318999886512756\n"
     ]
    },
    {
     "name": "stderr",
     "output_type": "stream",
     "text": [
      " 90%|█████████ | 900/1000 [06:03<00:43,  2.32it/s]"
     ]
    },
    {
     "name": "stdout",
     "output_type": "stream",
     "text": [
      "Epoch [900/1000], Loss: 0.05689\n",
      "pred: tensor([0.6077], device='cuda:0'), gt: 0.6169999837875366\n",
      "pred: tensor([0.6020], device='cuda:0'), gt: 0.593500018119812\n"
     ]
    },
    {
     "name": "stderr",
     "output_type": "stream",
     "text": [
      " 95%|█████████▌| 950/1000 [06:21<00:14,  3.43it/s]"
     ]
    },
    {
     "name": "stdout",
     "output_type": "stream",
     "text": [
      "Epoch [950/1000], Loss: 0.05360\n",
      "pred: tensor([0.5961], device='cuda:0'), gt: 0.6108999848365784\n",
      "pred: tensor([0.5609], device='cuda:0'), gt: 0.5616000294685364\n"
     ]
    },
    {
     "name": "stderr",
     "output_type": "stream",
     "text": [
      "100%|██████████| 1000/1000 [06:36<00:00,  2.52it/s]"
     ]
    },
    {
     "name": "stdout",
     "output_type": "stream",
     "text": [
      "Epoch [1000/1000], Loss: 0.04816\n",
      "pred: tensor([0.6587], device='cuda:0'), gt: 0.676800012588501\n",
      "pred: tensor([0.4772], device='cuda:0'), gt: 0.47929999232292175\n"
     ]
    },
    {
     "name": "stderr",
     "output_type": "stream",
     "text": [
      "\n"
     ]
    }
   ],
   "source": [
    "num_epochs = 1000\n",
    "losses = []\n",
    "for epoch in tqdm(range(num_epochs)):\n",
    "    running_loss = 0.0\n",
    "    # 前向传播\n",
    "    for input, gt in train_loader:\n",
    "        # 前向传播\n",
    "        outputs = model(input)\n",
    "        loss = criterion(outputs, gt.view(-1, 1))\n",
    "\n",
    "        # 反向传播和优化\n",
    "        loss.backward()\n",
    "        optimizer.step()\n",
    "        # scheduler.step(loss)\n",
    "        optimizer.zero_grad()\n",
    "        # scheduler.step()\n",
    "        running_loss += loss.item()\n",
    "    \n",
    "    losses.append(running_loss)\n",
    "\n",
    "    plt.show()\n",
    "    if (epoch + 1) % 50 == 0:\n",
    "        print(f'Epoch [{epoch+1}/{num_epochs}], Loss: {running_loss:.5f}')\n",
    "        with torch.no_grad():\n",
    "            idxs = random.choices(range(len(inputs)), k=2)\n",
    "            test_outputs = model(inputs[idxs])\n",
    "            for i in range(2):\n",
    "                print(f'pred: {test_outputs[i]}, gt: {gts[idxs[i]]}')\n",
    "\n",
    "\n",
    "torch.save(model.state_dict(), 'model_weights.pth')"
   ]
  },
  {
   "cell_type": "code",
   "execution_count": 18,
   "metadata": {},
   "outputs": [
    {
     "name": "stdout",
     "output_type": "stream",
     "text": [
      "torch.Size([74, 1])\n",
      "pred: tensor([0.5514], device='cuda:0') gt: 0.5400999784469604\n",
      "pred: tensor([0.6937], device='cuda:0') gt: 0.7002999782562256\n",
      "pred: tensor([0.5168], device='cuda:0') gt: 0.5257999897003174\n",
      "pred: tensor([0.4254], device='cuda:0') gt: 0.4083000123500824\n",
      "pred: tensor([0.6196], device='cuda:0') gt: 0.6144000291824341\n",
      "pred: tensor([0.6244], device='cuda:0') gt: 0.6204000115394592\n",
      "pred: tensor([0.6020], device='cuda:0') gt: 0.5952000021934509\n",
      "pred: tensor([0.5919], device='cuda:0') gt: 0.5895000100135803\n",
      "pred: tensor([0.6057], device='cuda:0') gt: 0.6078000068664551\n",
      "pred: tensor([0.6126], device='cuda:0') gt: 0.5940999984741211\n",
      "pred: tensor([0.5602], device='cuda:0') gt: 0.5613999962806702\n",
      "pred: tensor([0.6171], device='cuda:0') gt: 0.6496000289916992\n",
      "pred: tensor([0.6249], device='cuda:0') gt: 0.58160001039505\n",
      "pred: tensor([0.6613], device='cuda:0') gt: 0.6546000242233276\n",
      "pred: tensor([0.6560], device='cuda:0') gt: 0.6531000137329102\n",
      "pred: tensor([0.5563], device='cuda:0') gt: 0.554099977016449\n",
      "pred: tensor([0.6838], device='cuda:0') gt: 0.698199987411499\n",
      "pred: tensor([0.5166], device='cuda:0') gt: 0.5159000158309937\n",
      "pred: tensor([0.6395], device='cuda:0') gt: 0.6276000142097473\n",
      "pred: tensor([0.6126], device='cuda:0') gt: 0.5968999862670898\n",
      "pred: tensor([0.6429], device='cuda:0') gt: 0.6599000096321106\n",
      "pred: tensor([0.5890], device='cuda:0') gt: 0.5867000222206116\n",
      "pred: tensor([0.5641], device='cuda:0') gt: 0.5728999972343445\n",
      "pred: tensor([0.7671], device='cuda:0') gt: 0.7957000136375427\n",
      "pred: tensor([0.6873], device='cuda:0') gt: 0.7070000171661377\n",
      "pred: tensor([0.6395], device='cuda:0') gt: 0.6596999764442444\n",
      "pred: tensor([0.5556], device='cuda:0') gt: 0.5547000169754028\n",
      "pred: tensor([0.6608], device='cuda:0') gt: 0.6552000045776367\n",
      "pred: tensor([0.5990], device='cuda:0') gt: 0.6035000085830688\n",
      "pred: tensor([0.5479], device='cuda:0') gt: 0.538100004196167\n",
      "pred: tensor([0.6296], device='cuda:0') gt: 0.6144000291824341\n",
      "pred: tensor([0.6154], device='cuda:0') gt: 0.6175000071525574\n",
      "pred: tensor([0.5903], device='cuda:0') gt: 0.5932999849319458\n",
      "pred: tensor([0.5552], device='cuda:0') gt: 0.555899977684021\n",
      "pred: tensor([0.6503], device='cuda:0') gt: 0.6707000136375427\n",
      "pred: tensor([0.6799], device='cuda:0') gt: 0.6877999901771545\n",
      "pred: tensor([0.6305], device='cuda:0') gt: 0.6715999841690063\n",
      "pred: tensor([0.6317], device='cuda:0') gt: 0.61080002784729\n",
      "pred: tensor([0.4989], device='cuda:0') gt: 0.48500001430511475\n",
      "pred: tensor([0.5930], device='cuda:0') gt: 0.5932000279426575\n",
      "pred: tensor([0.6474], device='cuda:0') gt: 0.6485000252723694\n",
      "pred: tensor([0.6329], device='cuda:0') gt: 0.6376000046730042\n",
      "pred: tensor([0.5900], device='cuda:0') gt: 0.4090000092983246\n",
      "pred: tensor([0.5918], device='cuda:0') gt: 0.5860000252723694\n",
      "pred: tensor([0.6053], device='cuda:0') gt: 0.6000000238418579\n",
      "pred: tensor([0.6547], device='cuda:0') gt: 0.65829998254776\n",
      "pred: tensor([0.6250], device='cuda:0') gt: 0.6169000267982483\n",
      "pred: tensor([0.7357], device='cuda:0') gt: 0.765999972820282\n",
      "pred: tensor([0.6471], device='cuda:0') gt: 0.6480000019073486\n",
      "pred: tensor([0.6510], device='cuda:0') gt: 0.661899983882904\n",
      "pred: tensor([0.5806], device='cuda:0') gt: 0.6388000249862671\n",
      "pred: tensor([0.6340], device='cuda:0') gt: 0.6438999772071838\n",
      "pred: tensor([0.6738], device='cuda:0') gt: 0.6797999739646912\n",
      "pred: tensor([0.6187], device='cuda:0') gt: 0.6283000111579895\n",
      "pred: tensor([0.6509], device='cuda:0') gt: 0.6568999886512756\n",
      "pred: tensor([0.6269], device='cuda:0') gt: 0.6176000237464905\n",
      "pred: tensor([0.5771], device='cuda:0') gt: 0.6699000000953674\n",
      "pred: tensor([0.4525], device='cuda:0') gt: 0.45080000162124634\n",
      "pred: tensor([0.5936], device='cuda:0') gt: 0.5920000076293945\n",
      "pred: tensor([0.6082], device='cuda:0') gt: 0.6051999926567078\n",
      "pred: tensor([0.6510], device='cuda:0') gt: 0.6506999731063843\n",
      "pred: tensor([0.6285], device='cuda:0') gt: 0.6062999963760376\n",
      "pred: tensor([0.6532], device='cuda:0') gt: 0.6309999823570251\n",
      "pred: tensor([0.5040], device='cuda:0') gt: 0.4959999918937683\n",
      "pred: tensor([0.5852], device='cuda:0') gt: 0.583299994468689\n",
      "pred: tensor([0.6620], device='cuda:0') gt: 0.6482999920845032\n",
      "pred: tensor([0.5502], device='cuda:0') gt: 0.5501999855041504\n",
      "pred: tensor([0.6074], device='cuda:0') gt: 0.5690000057220459\n",
      "pred: tensor([0.5424], device='cuda:0') gt: 0.5307000279426575\n",
      "pred: tensor([0.6332], device='cuda:0') gt: 0.6520000100135803\n",
      "pred: tensor([0.6234], device='cuda:0') gt: 0.6046000123023987\n",
      "pred: tensor([0.6240], device='cuda:0') gt: 0.6118999719619751\n",
      "pred: tensor([0.6253], device='cuda:0') gt: 0.6151999831199646\n",
      "pred: tensor([0.6322], device='cuda:0') gt: 0.6409000158309937\n",
      "Mean Squared Error on Test Data: 0.0076\n"
     ]
    }
   ],
   "source": [
    "with torch.no_grad():\n",
    "    inputs = X_test\n",
    "    test_outputs = model(inputs)\n",
    "    print(test_outputs.shape)\n",
    "    for i in range(len(test_outputs)):\n",
    "        print(f\"pred: {test_outputs[i]} gt: {y_test[i]}\")\n",
    "\n",
    "    mse = criterion(test_outputs, y_test)\n",
    "    print(f'Mean Squared Error on Test Data: {mse.item():.4f}')"
   ]
  },
  {
   "cell_type": "code",
   "execution_count": 19,
   "metadata": {},
   "outputs": [
    {
     "data": {
      "image/png": "[encoded data removed]",
      "text/plain": [
       "<Figure size 640x480 with 1 Axes>"
      ]
     },
     "metadata": {},
     "output_type": "display_data"
    },
    {
     "data": {
      "text/plain": [
       "array([[1.        , 0.82222678],\n",
       "       [0.82222678, 1.        ]])"
      ]
     },
     "execution_count": 19,
     "metadata": {},
     "output_type": "execute_result"
    }
   ],
   "source": [
    "plt.scatter(y_test.cpu(),test_outputs.cpu())\n",
    "plt.plot(np.arange(0.35,.9,0.05),np.arange(0.35,.9,0.05), color='red')\n",
    "plt.show()\n",
    "\n",
    "np.corrcoef(y_test.cpu(),test_outputs.view(-1).cpu())**2"
   ]
  },
  {
   "cell_type": "code",
   "execution_count": null,
   "metadata": {},
   "outputs": [
    {
     "name": "stdout",
     "output_type": "stream",
     "text": [
      "0.6013101902173915\n"
     ]
    }
   ],
   "source": [
    "avg_winrate = sum(winrate)/ len(winrate)\n",
    "print(avg_winrate)"
   ]
  }
 ],
 "metadata": {
  "kernelspec": {
   "display_name": "hs",
   "language": "python",
   "name": "python3"
  },
  "language_info": {
   "codemirror_mode": {
    "name": "ipython",
    "version": 3
   },
   "file_extension": ".py",
   "mimetype": "text/x-python",
   "name": "python",
   "nbconvert_exporter": "python",
   "pygments_lexer": "ipython3",
   "version": "3.8.18"
  }
 },
 "nbformat": 4,
 "nbformat_minor": 2
}
